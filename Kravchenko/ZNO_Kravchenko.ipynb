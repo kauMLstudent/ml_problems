{
 "cells": [
  {
   "cell_type": "code",
   "execution_count": 1,
   "metadata": {
    "collapsed": true
   },
   "outputs": [
    {
     "name": "stdout",
     "output_type": "stream",
     "text": [
      "  % Total    % Received % Xferd  Average Speed   Time    Time     Time  Current\n",
      "                                 Dload  Upload   Total   Spent    Left  Speed\n",
      "100 21.4M  100 21.4M    0     0  3850k      0  0:00:05  0:00:05 --:--:-- 4717k\n",
      "  % Total    % Received % Xferd  Average Speed   Time    Time     Time  Current\n",
      "                                 Dload  Upload   Total   Spent    Left  Speed\n",
      "100 23.3M  100 23.3M    0     0  5772k      0  0:00:04  0:00:04 --:--:-- 5773k\n",
      "  % Total    % Received % Xferd  Average Speed   Time    Time     Time  Current\n",
      "                                 Dload  Upload   Total   Spent    Left  Speed\n",
      "100 25.0M  100 25.0M    0     0  3467k      0  0:00:07  0:00:07 --:--:-- 4805k02k      0  0:00:09  0:00:04  0:00:05 2801k\n",
      "  % Total    % Received % Xferd  Average Speed   Time    Time     Time  Current\n",
      "                                 Dload  Upload   Total   Spent    Left  Speed\n",
      "100 27.4M  100 27.4M    0     0  7226k      0  0:00:03  0:00:03 --:--:-- 7225k\n"
     ]
    }
   ],
   "source": [
    "# download data\n",
    "!curl -O https://raw.githubusercontent.com/fbeilstein/machine_learning/master/datasets/zno_2016.7z\n",
    "!curl -O https://raw.githubusercontent.com/fbeilstein/machine_learning/master/datasets/zno_2017.7z\n",
    "!curl -O https://raw.githubusercontent.com/fbeilstein/machine_learning/master/datasets/zno_2018.7z\n",
    "!curl -O https://raw.githubusercontent.com/fbeilstein/machine_learning/master/datasets/zno_2019.7z"
   ]
  },
  {
   "cell_type": "code",
   "execution_count": 3,
   "metadata": {
    "collapsed": true
   },
   "outputs": [
    {
     "name": "stdout",
     "output_type": "stream",
     "text": [
      "\n",
      "7-Zip [64] 16.02 : Copyright (c) 1999-2016 Igor Pavlov : 2016-05-21\n",
      "p7zip Version 16.02 (locale=utf8,Utf16=on,HugeFiles=on,64 bits,8 CPUs x64)\n",
      "\n",
      "Scanning the drive for archives:\n",
      "  0M Sca        1 file, 22534640 bytes (22 MiB)\n",
      "\n",
      "Extracting archive: zno_2016.7z\n",
      "--\n",
      "Path = zno_2016.7z\n",
      "Type = 7z\n",
      "Physical Size = 22534640\n",
      "Headers Size = 130\n",
      "Method = LZMA2:24\n",
      "Solid = -\n",
      "Blocks = 1\n",
      "\n",
      "      7% - zno_2016.cs                   16% - zno_2016.cs                   24% - zno_2016.cs                   33% - zno_2016.cs                   41% - zno_2016.cs                   49% - zno_2016.cs                   58% - zno_2016.cs                   66% - zno_2016.cs                   74% - zno_2016.cs                   83% - zno_2016.cs                   92% - zno_2016.cs                  Everything is Ok\n",
      "\n",
      "Size:       711144477\n",
      "Compressed: 22534640\n",
      "\n",
      "7-Zip [64] 16.02 : Copyright (c) 1999-2016 Igor Pavlov : 2016-05-21\n",
      "p7zip Version 16.02 (locale=utf8,Utf16=on,HugeFiles=on,64 bits,8 CPUs x64)\n",
      "\n",
      "Scanning the drive for archives:\n",
      "  0M Sca        1 file, 24468493 bytes (24 MiB)\n",
      "\n",
      "Extracting archive: zno_2017.7z\n",
      "--\n",
      "Path = zno_2017.7z\n",
      "Type = 7z\n",
      "Physical Size = 24468493\n",
      "Headers Size = 130\n",
      "Method = LZMA2:24\n",
      "Solid = -\n",
      "Blocks = 1\n",
      "\n",
      "      8% - zno_2017.cs                   17% - zno_2017.cs                   27% - zno_2017.cs                   36% - zno_2017.cs                   45% - zno_2017.cs                   55% - zno_2017.cs                   64% - zno_2017.cs                   73% - zno_2017.cs                   82% - zno_2017.cs                   91% - zno_2017.cs                  Everything is Ok\n",
      "\n",
      "Size:       493627201\n",
      "Compressed: 24468493\n",
      "\n",
      "7-Zip [64] 16.02 : Copyright (c) 1999-2016 Igor Pavlov : 2016-05-21\n",
      "p7zip Version 16.02 (locale=utf8,Utf16=on,HugeFiles=on,64 bits,8 CPUs x64)\n",
      "\n",
      "Scanning the drive for archives:\n",
      "  0M Sca        1 file, 26251475 bytes (26 MiB)\n",
      "\n",
      "Extracting archive: zno_2018.7z\n",
      "--\n",
      "Path = zno_2018.7z\n",
      "Type = 7z\n",
      "Physical Size = 26251475\n",
      "Headers Size = 130\n",
      "Method = LZMA2:24\n",
      "Solid = -\n",
      "Blocks = 1\n",
      "\n",
      "      8% - zno_2018.cs                   16% - zno_2018.cs                   25% - zno_2018.cs                   34% - zno_2018.cs                   43% - zno_2018.cs                   51% - zno_2018.cs                   59% - zno_2018.cs                   68% - zno_2018.cs                   76% - zno_2018.cs                   84% - zno_2018.cs                   93% - zno_2018.cs                   96% - zno_2018.cs                  Everything is Ok\n",
      "\n",
      "Size:       603048184\n",
      "Compressed: 26251475\n",
      "\n",
      "7-Zip [64] 16.02 : Copyright (c) 1999-2016 Igor Pavlov : 2016-05-21\n",
      "p7zip Version 16.02 (locale=utf8,Utf16=on,HugeFiles=on,64 bits,8 CPUs x64)\n",
      "\n",
      "Scanning the drive for archives:\n",
      "  0M Sca        1 file, 28819887 bytes (28 MiB)\n",
      "\n",
      "Extracting archive: zno_2019.7z\n",
      "--\n",
      "Path = zno_2019.7z\n",
      "Type = 7z\n",
      "Physical Size = 28819887\n",
      "Headers Size = 130\n",
      "Method = LZMA2:24\n",
      "Solid = -\n",
      "Blocks = 1\n",
      "\n",
      "      6% - zno_2019.cs                   14% - zno_2019.cs                   21% - zno_2019.cs                   30% - zno_2019.cs                   37% - zno_2019.cs                   45% - zno_2019.cs                   52% - zno_2019.cs                   59% - zno_2019.cs                   67% - zno_2019.cs                   75% - zno_2019.cs                   83% - zno_2019.cs                   91% - zno_2019.cs                   98% - zno_2019.cs                  Everything is Ok\n",
      "\n",
      "Size:       667956090\n",
      "Compressed: 28819887\n"
     ]
    }
   ],
   "source": [
    "# unpack data\n",
    "!7z e zno_2016.7z\n",
    "!7z e zno_2017.7z\n",
    "!7z e zno_2018.7z\n",
    "!7z e zno_2019.7z"
   ]
  },
  {
   "cell_type": "code",
   "execution_count": 1,
   "metadata": {},
   "outputs": [],
   "source": [
    "import pandas as pd\n",
    "import numpy as np\n",
    "import matplotlib.pyplot as plt\n",
    "import seaborn as sns\n",
    "import ipywidgets as widgets\n",
    "from ipywidgets import interact, interact_manual"
   ]
  },
  {
   "cell_type": "code",
   "execution_count": 2,
   "metadata": {},
   "outputs": [],
   "source": [
    "from pylab import rcParams\n",
    "rcParams['figure.figsize'] = 10, 10"
   ]
  },
  {
   "cell_type": "code",
   "execution_count": 3,
   "metadata": {},
   "outputs": [
    {
     "name": "stderr",
     "output_type": "stream",
     "text": [
      "/anaconda3/envs/storylook/lib/python3.6/site-packages/IPython/core/interactiveshell.py:3049: DtypeWarning: Columns (119) have mixed types. Specify dtype option on import or set low_memory=False.\n",
      "  interactivity=interactivity, compiler=compiler, result=result)\n",
      "/anaconda3/envs/storylook/lib/python3.6/site-packages/IPython/core/interactiveshell.py:3049: DtypeWarning: Columns (100,116,117,120,122,123,124,125) have mixed types. Specify dtype option on import or set low_memory=False.\n",
      "  interactivity=interactivity, compiler=compiler, result=result)\n"
     ]
    }
   ],
   "source": [
    "# load data\n",
    "zno_2016 = pd.read_csv(\"zno_2016.csv\")\n",
    "zno_2017 = pd.read_csv(\"zno_2017.csv\")\n",
    "zno_2018 = pd.read_csv(\"zno_2018.csv\")\n",
    "zno_2019 = pd.read_csv(\"zno_2019.csv\")"
   ]
  },
  {
   "cell_type": "markdown",
   "metadata": {},
   "source": [
    "## Number of applicants"
   ]
  },
  {
   "cell_type": "code",
   "execution_count": 4,
   "metadata": {},
   "outputs": [
    {
     "data": {
      "image/png": "[encoded data removed]",
      "text/plain": [
       "<Figure size 720x720 with 1 Axes>"
      ]
     },
     "metadata": {
      "needs_background": "light"
     },
     "output_type": "display_data"
    }
   ],
   "source": [
    "plt.plot([\"2016\", \"2017\", \"2018\" ,\"2019\"], [len(zno_2016), len(zno_2017), len(zno_2018), len(zno_2019)])\n",
    "plt.title(\"Number of applicants/years\")\n",
    "plt.xlabel(\"year\")\n",
    "plt.ylabel(\"applicants\");"
   ]
  },
  {
   "cell_type": "markdown",
   "metadata": {},
   "source": [
    "## Age of applicants"
   ]
  },
  {
   "cell_type": "code",
   "execution_count": 232,
   "metadata": {},
   "outputs": [
    {
     "data": {
      "image/png": "[encoded data removed]",
      "text/plain": [
       "<Figure size 720x720 with 1 Axes>"
      ]
     },
     "metadata": {
      "needs_background": "light"
     },
     "output_type": "display_data"
    }
   ],
   "source": [
    "# Selective average\n",
    "mean_2016 = int(2016 - np.mean(zno_2016.Birth))\n",
    "mean_2017 = int(2017 - np.mean(zno_2017.BIRTH))\n",
    "mean_2018 = int(2018 - np.mean(zno_2018.Birth))\n",
    "mean_2019 = int(2019 - np.mean(zno_2019.Birth))\n",
    "\n",
    "# oldest applicant\n",
    "oldest_2016 = 2016 - np.min(zno_2016.Birth)\n",
    "oldest_2017 = 2017 - np.min(zno_2017.BIRTH)\n",
    "oldest_2018 = 2018 - np.min(zno_2018.Birth)\n",
    "oldest_2019 = 2019 - np.min(zno_2019.Birth)\n",
    "\n",
    "# youngest applicant\n",
    "youngest_2016 = 2016 - np.max(zno_2016.Birth)\n",
    "youngest_2017 = 2017 - np.max(zno_2017.BIRTH)\n",
    "youngest_2018 = 2018 - np.max(zno_2018.Birth)\n",
    "youngest_2019 = 2019 - np.max(zno_2019.Birth)\n",
    "\n",
    "fig, ax = plt.subplots()\n",
    "y1 = [oldest_2016, oldest_2017, oldest_2018, oldest_2019]\n",
    "x = [\"2016\",\"2017\",\"2018\",\"2019\"]\n",
    "mrkr_size = 100\n",
    "text_size = 13\n",
    "\n",
    "ax.scatter(x = x,\n",
    "           y = y1,\n",
    "           s=mrkr_size,\n",
    "           label=\"oldest\",\n",
    "           marker=\"$o$\")\n",
    "for i, o in enumerate(y1):\n",
    "    ax.annotate(f\"{o}y.o.\", (x[i], y1[i]), size=text_size)\n",
    "    \n",
    "    \n",
    "y2 = [mean_2016, mean_2017, mean_2018, mean_2019]   \n",
    "ax.scatter(x = x,\n",
    "           y = y2,\n",
    "           s=mrkr_size,\n",
    "           label=\"average age\",\n",
    "           marker=\"$a$\")\n",
    "for i, a in enumerate(y2):\n",
    "    ax.annotate(f\"{a}y.o.\", (x[i], y2[i]), size=text_size)\n",
    "    \n",
    "y3 = [youngest_2016, youngest_2017, youngest_2018, youngest_2019] \n",
    "plt.scatter(x = x,\n",
    "            y = y3,\n",
    "            s=mrkr_size,\n",
    "            label=\"youngest\",\n",
    "            marker=\"$y$\")\n",
    "for i, yn in enumerate(y3):\n",
    "    ax.annotate(f\"{yn}y.o.\", (x[i], y3[i]), size=text_size)\n",
    "\n",
    "plt.title(\"max/avg/min age per years\")\n",
    "plt.legend(loc=10)\n",
    "plt.xlabel(\"year\")\n",
    "plt.ylabel(\"age of applicants\");"
   ]
  },
  {
   "cell_type": "markdown",
   "metadata": {},
   "source": [
    "## Gender distribution"
   ]
  },
  {
   "cell_type": "code",
   "execution_count": 47,
   "metadata": {},
   "outputs": [
    {
     "data": {
      "application/vnd.jupyter.widget-view+json": {
       "model_id": "cb8a403f9de14f2da478b988d4d1a84c",
       "version_major": 2,
       "version_minor": 0
      },
      "text/plain": [
       "interactive(children=(Dropdown(description='year', options=('2016', '2017', '2018', '2019'), value='2016'), Ou…"
      ]
     },
     "metadata": {},
     "output_type": "display_data"
    }
   ],
   "source": [
    "gender_df = pd.DataFrame()\n",
    "gender_df[\"2016\"] = zno_2016.SexTypeName\n",
    "gender_df[\"2017\"] = zno_2017.SEXTYPENAME\n",
    "gender_df[\"2018\"] = zno_2018.SEXTYPENAME\n",
    "gender_df[\"2019\"] = zno_2019.SEXTYPENAME\n",
    "\n",
    "def gender_d(year):\n",
    "    sns.countplot(gender_df[year].values, palette=\"Set3\")\n",
    "    plt.title(\"Gender distribution\")\n",
    "    plt.ylabel(\"Gender \")\n",
    "    plt.xlabel(\"Count\")\n",
    "\n",
    "interact(gender_d, \n",
    "         year=[\"2016\", \"2017\",\"2018\",\"2019\"]);"
   ]
  },
  {
   "cell_type": "markdown",
   "metadata": {},
   "source": [
    "## Distribution per region"
   ]
  },
  {
   "cell_type": "code",
   "execution_count": 48,
   "metadata": {},
   "outputs": [
    {
     "data": {
      "application/vnd.jupyter.widget-view+json": {
       "model_id": "c1d31878d55c4086a5cb06e826693495",
       "version_major": 2,
       "version_minor": 0
      },
      "text/plain": [
       "interactive(children=(Dropdown(description='year', options=('2016', '2017', '2018', '2019'), value='2016'), Ou…"
      ]
     },
     "metadata": {},
     "output_type": "display_data"
    }
   ],
   "source": [
    "Regname_df = pd.DataFrame()\n",
    "Regname_df[\"2016\"] = zno_2016.Regname\n",
    "Regname_df[\"2017\"] = zno_2017.REGNAME\n",
    "Regname_df[\"2018\"] = zno_2018.REGNAME\n",
    "Regname_df[\"2019\"] = zno_2019.REGNAME\n",
    "\n",
    "def Regname_d(year):\n",
    "    sns.countplot(Regname_df[year].values, palette=\"tab20b\")\n",
    "    plt.title(\"Distribution per region\")\n",
    "    plt.xlabel(\"Region\")\n",
    "    plt.ylabel(\"count\")\n",
    "    plt.xticks(rotation='vertical')\n",
    "\n",
    "interact(Regname_d, \n",
    "         year=[\"2016\", \"2017\",\"2018\",\"2019\"]);"
   ]
  },
  {
   "cell_type": "markdown",
   "metadata": {},
   "source": [
    "## Subjects per year"
   ]
  },
  {
   "cell_type": "code",
   "execution_count": 8,
   "metadata": {},
   "outputs": [],
   "source": [
    "ZNO_dict ={\n",
    "    \"2016\":{\n",
    "        \"украинский\":zno_2016.UkrBall100.values,\n",
    "        \"математика\":zno_2016.MathBall100.values,\n",
    "        \"история\":zno_2016.HistBall100.values\n",
    "    },\n",
    "    \"2017\":{\n",
    "        \"украинский\":zno_2017.UKRBALL100.values,\n",
    "        \"математика\":zno_2017.MATHBALL100.values,\n",
    "        \"история\":zno_2017.HISTBALL100.values\n",
    "    },\n",
    "    \"2018\":{\n",
    "        \"украинский\":zno_2018.UkrBall100.values,\n",
    "        \"математика\":zno_2018.mathBall100.values,\n",
    "        \"история\":zno_2018.histBall100.values\n",
    "    },\n",
    "    \"2019\":{\n",
    "        \"украинский\":zno_2019.UkrBall100.values,\n",
    "        \"математика\":zno_2019.mathBall100.values,\n",
    "        \"история\":zno_2019.histBall100.values\n",
    "    }\n",
    "}"
   ]
  },
  {
   "cell_type": "code",
   "execution_count": 12,
   "metadata": {},
   "outputs": [
    {
     "data": {
      "application/vnd.jupyter.widget-view+json": {
       "model_id": "fce34310f58844729fe2f556105faff3",
       "version_major": 2,
       "version_minor": 0
      },
      "text/plain": [
       "interactive(children=(Dropdown(description='year', options=('2016', '2017', '2018', '2019'), value='2016'), Dr…"
      ]
     },
     "metadata": {},
     "output_type": "display_data"
    }
   ],
   "source": [
    "def y_sub(year, subject, min_mark, bins):\n",
    "    x=ZNO_dict[year][subject]\n",
    "    # drop NaNs\n",
    "    x = x[~np.isnan(x)]\n",
    "    # drop zeros\n",
    "    x = x[x!=0]\n",
    "    plt.hist(x[x > min_mark], bins=bins)\n",
    "    plt.title(f\"{len(x[x > min_mark])} apllicants have mark mor then {min_mark}\")\n",
    "    plt.xlabel(f\"number of points ({subject})\")\n",
    "    plt.ylabel(\"count\")\n",
    "\n",
    "interact(y_sub,\n",
    "         bins=widgets.IntSlider(min=5, max=200, step=5, value=30),\n",
    "         min_mark=widgets.IntSlider(min=100, max=195, step=5, value=100),\n",
    "         year=[\"2016\", \"2017\",\"2018\",\"2019\"],\n",
    "         subject=[\"украинский\", \"математика\", \"история\"]);"
   ]
  },
  {
   "cell_type": "markdown",
   "metadata": {},
   "source": [
    "## Most popular schools"
   ]
  },
  {
   "cell_type": "code",
   "execution_count": 43,
   "metadata": {},
   "outputs": [],
   "source": [
    "Schools_df = pd.DataFrame()\n",
    "Schools_df[\"2016\"] = zno_2016.EOName\n",
    "Schools_df[\"2017\"] = zno_2017.EONAME\n",
    "Schools_df[\"2018\"] = zno_2018.EONAME\n",
    "Schools_df[\"2019\"] = zno_2019.EONAME"
   ]
  },
  {
   "cell_type": "code",
   "execution_count": 44,
   "metadata": {},
   "outputs": [
    {
     "data": {
      "application/vnd.jupyter.widget-view+json": {
       "model_id": "e34069f492954512861596a951b6c2f5",
       "version_major": 2,
       "version_minor": 0
      },
      "text/plain": [
       "interactive(children=(Dropdown(description='year', options=('2016', '2017', '2018', '2019'), value='2016'), In…"
      ]
     },
     "metadata": {},
     "output_type": "display_data"
    }
   ],
   "source": [
    "def Popular_schools(year, top):\n",
    "    unique,pos = np.unique(Schools_df[year].dropna(), return_inverse=True)\n",
    "    counts = np.bincount(pos)\n",
    "    maxsort = counts.argsort()[::-1]\n",
    "    u_top = unique[maxsort][:top]\n",
    "    c_top = (counts[maxsort][:top])\n",
    "    print(\"Заклади з найбільшою кількістю абітурієрнтів:\")\n",
    "    for num, u in enumerate(u_top):\n",
    "        print(f\"{u} - {c_top[num]} абітурієнтів\")\n",
    "\n",
    "interact(Popular_schools, \n",
    "         year=[\"2016\", \"2017\",\"2018\",\"2019\"],\n",
    "         top = widgets.IntSlider(min=1, max=10, step=1, value=5));"
   ]
  }
 ],
 "metadata": {
  "kernelspec": {
   "display_name": "storylook",
   "language": "python",
   "name": "storylook"
  },
  "language_info": {
   "codemirror_mode": {
    "name": "ipython",
    "version": 3
   },
   "file_extension": ".py",
   "mimetype": "text/x-python",
   "name": "python",
   "nbconvert_exporter": "python",
   "pygments_lexer": "ipython3",
   "version": "3.6.7"
  }
 },
 "nbformat": 4,
 "nbformat_minor": 2
}
